{
 "cells": [
  {
   "cell_type": "code",
   "execution_count": 1,
   "metadata": {},
   "outputs": [
    {
     "name": "stdout",
     "output_type": "stream",
     "text": [
      "Populating the interactive namespace from numpy and matplotlib\n"
     ]
    }
   ],
   "source": [
    "import os,sys,glob,fitsio,subprocess\n",
    "import matplotlib.pyplot as plt\n",
    "import numpy as np\n",
    "import healpy as hp\n",
    "import astropy.io\n",
    "from astropy.io import fits\n",
    "from astropy.table import Table, Column\n",
    "import desimodel.io\n",
    "import desimodel.footprint\n",
    "import matplotlib.style\n",
    "import matplotlib as mpl\n",
    "from desitarget import mtl\n",
    "from desisim.quickcat import quickcat\n",
    "%pylab inline"
   ]
  },
  {
   "cell_type": "markdown",
   "metadata": {},
   "source": [
    "# Setting output path for this notebook"
   ]
  },
  {
   "cell_type": "code",
   "execution_count": 2,
   "metadata": {},
   "outputs": [
    {
     "name": "stdout",
     "output_type": "stream",
     "text": [
      "Working on /global/cscratch1/sd/hiramk/desi/priority_tests/\n"
     ]
    }
   ],
   "source": [
    "# Change this path if you want\n",
    "outdir= os.path.join(os.environ['SCRATCH'],'desi/priority_tests/')\n",
    "os.makedirs(outdir, exist_ok=True)\n",
    "print('Working on {}'.format(outdir))"
   ]
  },
  {
   "cell_type": "markdown",
   "metadata": {},
   "source": [
    "# Selecting the Year 1 footprint from a surveysim"
   ]
  },
  {
   "cell_type": "markdown",
   "metadata": {},
   "source": [
    "First we read the exposure.fits file from surveysims path"
   ]
  },
  {
   "cell_type": "code",
   "execution_count": 3,
   "metadata": {},
   "outputs": [
    {
     "data": {
      "text/html": [
       "&lt;Table length=5&gt;\n",
       "<table id=\"table46913193534576\" class=\"table-striped table-bordered table-condensed\">\n",
       "<thead><tr><th>MJD</th><th>EXPTIME</th><th>TILEID</th><th>SNR2FRAC</th><th>AIRMASS</th><th>SEEING</th><th>TRANSP</th><th>SKY</th></tr></thead>\n",
       "<thead><tr><th>float64</th><th>float32</th><th>int32</th><th>float32</th><th>float32</th><th>float32</th><th>float32</th><th>float32</th></tr></thead>\n",
       "<tr><td>58819.063888888886</td><td>920.0</td><td>28576</td><td>0.5002821</td><td>1.0944833</td><td>1.01959</td><td>0.9735375</td><td>1.0</td></tr>\n",
       "<tr><td>58819.07523148129</td><td>660.0</td><td>28576</td><td>1.00477</td><td>1.0944833</td><td>0.9895672</td><td>0.9818349</td><td>1.0</td></tr>\n",
       "<tr><td>58819.08425925893</td><td>1080.0</td><td>28589</td><td>0.50211537</td><td>1.093335</td><td>1.1533324</td><td>0.96132696</td><td>1.0</td></tr>\n",
       "<tr><td>58819.09745370316</td><td>650.0</td><td>28589</td><td>1.0113196</td><td>1.093335</td><td>0.87564546</td><td>0.9578879</td><td>1.0</td></tr>\n",
       "<tr><td>58819.10636574006</td><td>610.0</td><td>28588</td><td>0.5042863</td><td>1.096941</td><td>0.77289426</td><td>0.9925911</td><td>1.0</td></tr>\n",
       "</table>"
      ],
      "text/plain": [
       "<Table length=5>\n",
       "       MJD         EXPTIME TILEID  SNR2FRAC  ...   SEEING     TRANSP     SKY  \n",
       "     float64       float32 int32   float32   ...  float32    float32   float32\n",
       "------------------ ------- ------ ---------- ... ---------- ---------- -------\n",
       "58819.063888888886   920.0  28576  0.5002821 ...    1.01959  0.9735375     1.0\n",
       " 58819.07523148129   660.0  28576    1.00477 ...  0.9895672  0.9818349     1.0\n",
       " 58819.08425925893  1080.0  28589 0.50211537 ...  1.1533324 0.96132696     1.0\n",
       " 58819.09745370316   650.0  28589  1.0113196 ... 0.87564546  0.9578879     1.0\n",
       " 58819.10636574006   610.0  28588  0.5042863 ... 0.77289426  0.9925911     1.0"
      ]
     },
     "execution_count": 3,
     "metadata": {},
     "output_type": "execute_result"
    }
   ],
   "source": [
    "sim_path = \"/project/projectdirs/desi/datachallenge/surveysim2018/weather/035/\"\n",
    "exposures = Table.read(os.path.join(sim_path,'exposures.fits'), hdu=1)\n",
    "exposures[:5]"
   ]
  },
  {
   "cell_type": "markdown",
   "metadata": {},
   "source": [
    "Find which tiles are covered during first year"
   ]
  },
  {
   "cell_type": "code",
   "execution_count": 4,
   "metadata": {},
   "outputs": [],
   "source": [
    "cadence=365\n",
    "w=np.where(np.int_((exposures['MJD']-exposures['MJD'].min())/cadence)==0)"
   ]
  },
  {
   "cell_type": "code",
   "execution_count": 5,
   "metadata": {},
   "outputs": [
    {
     "data": {
      "text/html": [
       "&lt;Table length=5&gt;\n",
       "<table id=\"table46912573561768\" class=\"table-striped table-bordered table-condensed\">\n",
       "<thead><tr><th>MJD</th><th>EXPTIME</th><th>TILEID</th><th>SNR2FRAC</th><th>AIRMASS</th><th>SEEING</th><th>TRANSP</th><th>SKY</th></tr></thead>\n",
       "<thead><tr><th>float64</th><th>float32</th><th>int32</th><th>float32</th><th>float32</th><th>float32</th><th>float32</th><th>float32</th></tr></thead>\n",
       "<tr><td>58819.063888888886</td><td>920.0</td><td>28576</td><td>0.5002821</td><td>1.0944833</td><td>1.01959</td><td>0.9735375</td><td>1.0</td></tr>\n",
       "<tr><td>58819.07523148129</td><td>660.0</td><td>28576</td><td>1.00477</td><td>1.0944833</td><td>0.9895672</td><td>0.9818349</td><td>1.0</td></tr>\n",
       "<tr><td>58819.08425925893</td><td>1080.0</td><td>28589</td><td>0.50211537</td><td>1.093335</td><td>1.1533324</td><td>0.96132696</td><td>1.0</td></tr>\n",
       "<tr><td>58819.09745370316</td><td>650.0</td><td>28589</td><td>1.0113196</td><td>1.093335</td><td>0.87564546</td><td>0.9578879</td><td>1.0</td></tr>\n",
       "<tr><td>58819.10636574006</td><td>610.0</td><td>28588</td><td>0.5042863</td><td>1.096941</td><td>0.77289426</td><td>0.9925911</td><td>1.0</td></tr>\n",
       "</table>"
      ],
      "text/plain": [
       "<Table length=5>\n",
       "       MJD         EXPTIME TILEID  SNR2FRAC  ...   SEEING     TRANSP     SKY  \n",
       "     float64       float32 int32   float32   ...  float32    float32   float32\n",
       "------------------ ------- ------ ---------- ... ---------- ---------- -------\n",
       "58819.063888888886   920.0  28576  0.5002821 ...    1.01959  0.9735375     1.0\n",
       " 58819.07523148129   660.0  28576    1.00477 ...  0.9895672  0.9818349     1.0\n",
       " 58819.08425925893  1080.0  28589 0.50211537 ...  1.1533324 0.96132696     1.0\n",
       " 58819.09745370316   650.0  28589  1.0113196 ... 0.87564546  0.9578879     1.0\n",
       " 58819.10636574006   610.0  28588  0.5042863 ... 0.77289426  0.9925911     1.0"
      ]
     },
     "execution_count": 5,
     "metadata": {},
     "output_type": "execute_result"
    }
   ],
   "source": [
    "year1=exposures[w]\n",
    "year1[:5]"
   ]
  },
  {
   "cell_type": "markdown",
   "metadata": {},
   "source": [
    "For this test we will use a small area (100 sq.deg), so first we will get those tiles in a 100 sq.deg"
   ]
  },
  {
   "cell_type": "code",
   "execution_count": 6,
   "metadata": {},
   "outputs": [
    {
     "name": "stdout",
     "output_type": "stream",
     "text": [
      "There are 63 tiles in this area.\n"
     ]
    }
   ],
   "source": [
    "alltiles = Table(desimodel.io.load_tiles())\n",
    "not_bright = alltiles['PROGRAM']!='BRIGHT' # We are only insterested in GREY|DARK targets\n",
    "tiles= alltiles[not_bright]\n",
    "\n",
    "# Change this line if needed, if not needed comment, next twolines\n",
    "ii = (150 < tiles['RA']) & (tiles['RA']<160) & (20<tiles['DEC']) & (tiles['DEC']<30)\n",
    "tiles=tiles[ii]\n",
    "\n",
    "print('There are {} tiles in this area.'.format(len(tiles)))"
   ]
  },
  {
   "cell_type": "markdown",
   "metadata": {},
   "source": [
    "Now lets see which of those tiles are covered on the first year and save the exposures.fits file for this area. This is needed to run multipass"
   ]
  },
  {
   "cell_type": "code",
   "execution_count": 7,
   "metadata": {},
   "outputs": [
    {
     "name": "stdout",
     "output_type": "stream",
     "text": [
      "There are 37 year 1 tiles in this area.\n"
     ]
    }
   ],
   "source": [
    "w=np.isin(tiles['TILEID'],year1['TILEID'])\n",
    "tiles=tiles[w]\n",
    "print('There are {} year 1 tiles in this area.'.format(len(tiles)))\n",
    "tiles.write(outdir+'/reduced_tiles.fits',overwrite=True)"
   ]
  },
  {
   "cell_type": "code",
   "execution_count": 8,
   "metadata": {},
   "outputs": [
    {
     "name": "stdout",
     "output_type": "stream",
     "text": [
      "Tiles with PASS = 0: 13\n",
      "Tiles with PASS = 1: 14\n",
      "Tiles with PASS = 2:  1\n",
      "Tiles with PASS = 3:  2\n",
      "Tiles with PASS = 4:  7\n"
     ]
    }
   ],
   "source": [
    "pass_num,count= np.unique(tiles['PASS'],return_counts=True)\n",
    "for p,c in zip(pass_num,count):\n",
    "    print('Tiles with PASS = {:d}: {:2d}'.format(p,c))"
   ]
  },
  {
   "cell_type": "code",
   "execution_count": 9,
   "metadata": {},
   "outputs": [
    {
     "name": "stdout",
     "output_type": "stream",
     "text": [
      "exposures file already done; skipping\n"
     ]
    }
   ],
   "source": [
    "expfolder=os.path.join(outdir,'exposures')\n",
    "os.makedirs(expfolder,exist_ok=True)\n",
    "expfile=os.path.join(expfolder,'exposuresY1.fits')\n",
    "if os.path.exists(expfile):\n",
    "    print('exposures file already done; skipping')\n",
    "    year1=Table(fitsio.read(expfile))\n",
    "else:\n",
    "    print('Writing exposure file in {}'.format(expfile))\n",
    "    w=np.isin(year1['TILEID'],tiles['TILEID'])\n",
    "    year1=year1[w]\n",
    "    year1.write(expfile)"
   ]
  },
  {
   "cell_type": "markdown",
   "metadata": {},
   "source": [
    "# Reducing a whole footprint mock target selection run to match our footprint"
   ]
  },
  {
   "cell_type": "markdown",
   "metadata": {},
   "source": [
    "In this step we will select the targets that match the Y1 footprint from a whole footprint mock target selection catalog, these can be found in \n",
    "```\n",
    "/project/projectdirs/desi/users/alxogm/desi/select_mock_targets/onlyqso_all_sky_nospec\n",
    "```\n",
    "\n",
    "this is a run of `select_mock_targets` run of only qsos and stars.\n"
   ]
  },
  {
   "cell_type": "code",
   "execution_count": 10,
   "metadata": {},
   "outputs": [],
   "source": [
    "def reducefile(file,tiles,outdir='./',nside=16):\n",
    "    tilepixels=desimodel.footprint.tiles2pix(nside=nside, tiles=tiles)\n",
    "    print('Getting {} footprint pixels from {}'.format(tilepixels.size,file))\n",
    "    pixels=Table(fitsio.read(file,columns=['HPXPIXEL']))\n",
    "    whichtargets=np.isin(pixels['HPXPIXEL'],tilepixels)\n",
    "    rows=np.where(whichtargets==True)[0]\n",
    "    filename=os.path.split(file)[-1]\n",
    "    print('Reducing data')\n",
    "    reduced = Table(fitsio.read(file,rows=rows))\n",
    "    name=os.path.join(outdir,filename)\n",
    "    print(f'Writing reduced file {name}')\n",
    "    reduced.write(name,overwrite=True)\n",
    "    print('DONE')\n",
    "    del reduced\n",
    "    return rows"
   ]
  },
  {
   "cell_type": "code",
   "execution_count": 11,
   "metadata": {},
   "outputs": [],
   "source": [
    "mockpath='/global/cfs/projectdirs/desi/mocks/lya_forest/develop/london/smt/nospectra/onlyqso_all_sky_nospec/' # Only QSO catalog\n",
    "truthfile=os.path.join(mockpath,'truth-dark.fits')\n",
    "mtlfile=os.path.join(mockpath,'mtl-dark.fits')\n",
    "targetfile=os.path.join(mockpath,'targets-dark.fits')\n",
    "skyfile=os.path.join(mockpath,'sky.fits')\n",
    "fbadir=os.path.join(mockpath,'out_fba')"
   ]
  },
  {
   "cell_type": "code",
   "execution_count": 12,
   "metadata": {},
   "outputs": [
    {
     "name": "stdout",
     "output_type": "stream",
     "text": [
      "Already reduced files; skipping\n"
     ]
    }
   ],
   "source": [
    "do_reducefiles = False\n",
    "do_mtl=False\n",
    "\n",
    "if not os.path.exists(mtlfile):\n",
    "    do_mtl=True\n",
    "    \n",
    "for filename in ['truth-dark.fits','mtl-dark.fits','sky.fits']:\n",
    "    if not os.path.exists(os.path.join(outdir,filename)):\n",
    "        do_reducefiles = True\n",
    "        break\n",
    "        \n",
    "if not do_reducefiles:\n",
    "    print('Already reduced files; skipping')\n",
    "else:\n",
    "    print('Reducing files.')\n",
    "    sky = reducefile(skyfile,tiles,outdir)\n",
    "    \n",
    "    if not do_mtl:\n",
    "        rows = reducefile(mtlfile,tiles,outdir)\n",
    "    else:\n",
    "        print('MTL file does not exist in input path, generating reduced mtl for this run')\n",
    "        rows = reducefile(targetfile,tiles,outdir)\n",
    "        targets=fitsio.read(os.path.join(outdir,'targets-dark.fits'))\n",
    "        mtl = mtl.make_mtl(targets, obscon='DARK')\n",
    "        mtlname=os.path.join(outdir,'mtl-dark.fits')\n",
    "        mtl.meta['EXTNAME'] = 'MTL'\n",
    "        mtl.write(mtlname, overwrite=True, format='fits')\n",
    "        \n",
    "    print('Reducing truth file')   \n",
    "    reduced_truth = Table(fitsio.read(truthfile,rows=rows)) # Truth file doesn't contain a HPXPIXEL column but its aranged the same way as mtl\n",
    "    reduced_truth.write(os.path.join(outdir,'truth-dark.fits'),overwrite=True)\n",
    "    #del reduced_truth\n",
    "    print('DONE')"
   ]
  },
  {
   "cell_type": "code",
   "execution_count": 13,
   "metadata": {},
   "outputs": [],
   "source": [
    "truth_reduced=os.path.join(outdir,'truth-dark.fits')\n",
    "mtl_reduced=os.path.join(outdir,'mtl-dark.fits')\n",
    "sky_reduced=os.path.join(outdir,'sky.fits')\n",
    "tiles_reduced=os.path.join(outdir,'reduced_tiles.fits')\n",
    "fbadir=os.path.join(outdir,'fba')"
   ]
  },
  {
   "cell_type": "code",
   "execution_count": 14,
   "metadata": {},
   "outputs": [],
   "source": [
    "#The next step would be to run fiberassign a first time. "
   ]
  },
  {
   "cell_type": "code",
   "execution_count": 15,
   "metadata": {},
   "outputs": [],
   "source": [
    "assign_date= \"2020-01-01T00:00:00\""
   ]
  },
  {
   "cell_type": "code",
   "execution_count": 16,
   "metadata": {},
   "outputs": [],
   "source": [
    "\n",
    "# Run fiberassign\n",
    "cmd = 'fiberassign --overwrite --mtl {mtl} --sky {sky}'\n",
    "cmd += ' --rundate {}'.format(assign_date)\n",
    "cmd += ' --footprint {tiles}'\n",
    "cmd += ' --outdir {out}'\n",
    "cmd = cmd.format(mtl=mtl_reduced,sky=sky_reduced,tiles=tiles_reduced,out=fbadir)"
   ]
  },
  {
   "cell_type": "code",
   "execution_count": 17,
   "metadata": {},
   "outputs": [
    {
     "name": "stdout",
     "output_type": "stream",
     "text": [
      "RUNNING: fiberassign --overwrite --mtl /global/cscratch1/sd/hiramk/desi/priority_tests/mtl-dark.fits --sky /global/cscratch1/sd/hiramk/desi/priority_tests/sky.fits --rundate 2020-01-01T00:00:00 --footprint /global/cscratch1/sd/hiramk/desi/priority_tests/reduced_tiles.fits --outdir /global/cscratch1/sd/hiramk/desi/priority_tests/fba\n",
      "INFO: Loaded focalplane for time stamp 2020-01-01 00:00:00\n",
      "INFO: Focalplane has 0 fibers that are stuck / broken\n",
      "INFO: Target file /global/cscratch1/sd/hiramk/desi/priority_tests/mtl-dark.fits has 297792 rows.  Reading in chunks of 1000000\n",
      "INFO: Read target file /global/cscratch1/sd/hiramk/desi/priority_tests/mtl-dark.fits:  0.63 seconds (1 calls)\n",
      "INFO: Target file /global/cscratch1/sd/hiramk/desi/priority_tests/sky.fits has 327680 rows.  Reading in chunks of 1000000\n",
      "INFO: Read target file /global/cscratch1/sd/hiramk/desi/priority_tests/sky.fits:  3.59 seconds (1 calls)\n",
      "INFO: Building target tree:  0.17 seconds (1 calls)\n",
      "INFO: Computing targets available to all tile / locations:  1.27 seconds (1 calls)\n",
      "INFO: Computing tile / locations available to all objects:  0.39 seconds (1 calls)\n",
      "INFO: Assignment constructor project targets:  0.79 seconds (1 calls)\n",
      "INFO: assign unused science:  considering 5000 locations of positioner type \"POS\"\n",
      "INFO: assign unused science:  working on tiles -1 (index 0) to -1 (index 36)\n",
      "INFO: Assign science targets to unused locations:  2.74 seconds (1 calls)\n",
      "INFO: redist:  working on tiles -1 (index 0) to -1 (index 36)\n",
      "INFO: Redistribute science targets:  0.32 seconds (1 calls)\n",
      "INFO: assign unused standard:  considering 5000 locations of positioner type \"POS\"\n",
      "INFO: assign unused standard:  working on tiles -1 (index 0) to -1 (index 36)\n",
      "INFO: Assign up to 10 standard targets per petal to unused locations:  0.13 seconds (1 calls)\n",
      "INFO: assign unused sky:  considering 5000 locations of positioner type \"POS\"\n",
      "INFO: assign unused sky:  working on tiles -1 (index 0) to -1 (index 36)\n",
      "INFO: Assign up to 40 sky targets per petal to unused locations:  0.85 seconds (1 calls)\n",
      "INFO: assign unused suppsky:  considering 5000 locations of positioner type \"POS\"\n",
      "INFO: assign unused suppsky:  working on tiles -1 (index 0) to -1 (index 36)\n",
      "INFO: Assign up to 40 suppsky targets per petal to unused locations:  0.07 seconds (1 calls)\n",
      "INFO: assign force standard:  working on tiles -1 (index 0) to -1 (index 36)\n",
      "INFO: Force assignment of 10 standard targets per petal:  0.23 seconds (1 calls)\n",
      "INFO: assign force sky:  working on tiles -1 (index 0) to -1 (index 36)\n",
      "INFO: Force assignment of 40 sky targets per petal:  0.42 seconds (1 calls)\n",
      "INFO: assign force suppsky:  working on tiles -1 (index 0) to -1 (index 36)\n",
      "INFO: Force assignment of 40 suppsky targets per petal:  0.21 seconds (1 calls)\n",
      "INFO: assign unused science:  considering 5000 locations of positioner type \"POS\"\n",
      "INFO: assign unused science:  working on tiles -1 (index 0) to -1 (index 36)\n",
      "INFO: Assign science targets to unused locations:  0.15 seconds (1 calls)\n",
      "INFO: assign unused standard:  considering 5000 locations of positioner type \"POS\"\n",
      "INFO: assign unused standard:  working on tiles -1 (index 0) to -1 (index 36)\n",
      "INFO: Assign standard targets to unused locations:  0.19 seconds (1 calls)\n",
      "INFO: assign unused sky:  considering 5000 locations of positioner type \"POS\"\n",
      "INFO: assign unused sky:  working on tiles -1 (index 0) to -1 (index 36)\n",
      "INFO: Assign sky targets to unused locations:  2.35 seconds (1 calls)\n",
      "INFO: assign unused suppsky:  considering 5000 locations of positioner type \"POS\"\n",
      "INFO: assign unused suppsky:  working on tiles -1 (index 0) to -1 (index 36)\n",
      "INFO: Assign suppsky targets to unused locations:  0.04 seconds (1 calls)\n",
      "INFO: assign unused safe:  considering 5000 locations of positioner type \"POS\"\n",
      "INFO: assign unused safe:  working on tiles -1 (index 0) to -1 (index 36)\n",
      "INFO: Assign safe targets to unused locations:  0.04 seconds (1 calls)\n",
      "INFO: assign unused sky:  considering 20 locations of positioner type \"ETC\"\n",
      "INFO: assign unused sky:  working on tiles -1 (index 0) to -1 (index 36)\n",
      "INFO: Assign sky targets to unused locations:  0.02 seconds (1 calls)\n",
      "INFO: assign unused suppsky:  considering 20 locations of positioner type \"ETC\"\n",
      "INFO: assign unused suppsky:  working on tiles -1 (index 0) to -1 (index 36)\n",
      "INFO: Assign suppsky targets to unused locations:  0.00 seconds (1 calls)\n",
      "INFO: assign unused safe:  considering 20 locations of positioner type \"ETC\"\n",
      "INFO: assign unused safe:  working on tiles -1 (index 0) to -1 (index 36)\n",
      "INFO: Assign safe targets to unused locations:  0.00 seconds (1 calls)\n",
      "WARNING: Overwriting /global/cscratch1/sd/hiramk/desi/priority_tests/fba/fba-005291.fits\n",
      "INFO: Writing tile 5291\n",
      "WARNING: Overwriting /global/cscratch1/sd/hiramk/desi/priority_tests/fba/fba-005311.fits\n",
      "INFO: Writing tile 5311\n",
      "WARNING: Overwriting /global/cscratch1/sd/hiramk/desi/priority_tests/fba/fba-005312.fits\n",
      "INFO: Writing tile 5312\n",
      "WARNING: Overwriting /global/cscratch1/sd/hiramk/desi/priority_tests/fba/fba-005313.fits\n",
      "INFO: Writing tile 5313\n",
      "WARNING: Overwriting /global/cscratch1/sd/hiramk/desi/priority_tests/fba/fba-005314.fits\n",
      "INFO: Writing tile 5314\n",
      "WARNING: Overwriting /global/cscratch1/sd/hiramk/desi/priority_tests/fba/fba-005330.fits\n",
      "INFO: Writing tile 5330\n",
      "WARNING: Overwriting /global/cscratch1/sd/hiramk/desi/priority_tests/fba/fba-005331.fits\n",
      "INFO: Writing tile 5331\n",
      "WARNING: Overwriting /global/cscratch1/sd/hiramk/desi/priority_tests/fba/fba-005332.fits\n",
      "INFO: Writing tile 5332\n",
      "WARNING: Overwriting /global/cscratch1/sd/hiramk/desi/priority_tests/fba/fba-005383.fits\n",
      "INFO: Writing tile 5383\n",
      "WARNING: Overwriting /global/cscratch1/sd/hiramk/desi/priority_tests/fba/fba-005384.fits\n",
      "INFO: Writing tile 5384\n",
      "WARNING: Overwriting /global/cscratch1/sd/hiramk/desi/priority_tests/fba/fba-005385.fits\n",
      "INFO: Writing tile 5385\n",
      "WARNING: Overwriting /global/cscratch1/sd/hiramk/desi/priority_tests/fba/fba-005401.fits\n",
      "INFO: Writing tile 5401\n",
      "WARNING: Overwriting /global/cscratch1/sd/hiramk/desi/priority_tests/fba/fba-005402.fits\n",
      "INFO: Writing tile 5402\n",
      "WARNING: Overwriting /global/cscratch1/sd/hiramk/desi/priority_tests/fba/fba-011053.fits\n",
      "INFO: Writing tile 11053\n",
      "WARNING: Overwriting /global/cscratch1/sd/hiramk/desi/priority_tests/fba/fba-011072.fits\n",
      "INFO: Writing tile 11072\n",
      "WARNING: Overwriting /global/cscratch1/sd/hiramk/desi/priority_tests/fba/fba-011073.fits\n",
      "INFO: Writing tile 11073\n",
      "WARNING: Overwriting /global/cscratch1/sd/hiramk/desi/priority_tests/fba/fba-011074.fits\n",
      "INFO: Writing tile 11074\n",
      "WARNING: Overwriting /global/cscratch1/sd/hiramk/desi/priority_tests/fba/fba-011075.fits\n",
      "INFO: Writing tile 11075\n",
      "WARNING: Overwriting /global/cscratch1/sd/hiramk/desi/priority_tests/fba/fba-011092.fits\n",
      "INFO: Writing tile 11092\n",
      "WARNING: Overwriting /global/cscratch1/sd/hiramk/desi/priority_tests/fba/fba-011093.fits\n",
      "INFO: Writing tile 11093\n",
      "WARNING: Overwriting /global/cscratch1/sd/hiramk/desi/priority_tests/fba/fba-011094.fits\n",
      "INFO: Writing tile 11094\n",
      "WARNING: Overwriting /global/cscratch1/sd/hiramk/desi/priority_tests/fba/fba-011095.fits\n",
      "INFO: Writing tile 11095\n",
      "WARNING: Overwriting /global/cscratch1/sd/hiramk/desi/priority_tests/fba/fba-011145.fits\n",
      "INFO: Writing tile 11145\n",
      "WARNING: Overwriting /global/cscratch1/sd/hiramk/desi/priority_tests/fba/fba-011146.fits\n",
      "INFO: Writing tile 11146\n",
      "WARNING: Overwriting /global/cscratch1/sd/hiramk/desi/priority_tests/fba/fba-011147.fits\n",
      "INFO: Writing tile 11147\n",
      "WARNING: Overwriting /global/cscratch1/sd/hiramk/desi/priority_tests/fba/fba-011163.fits\n",
      "INFO: Writing tile 11163\n",
      "WARNING: Overwriting /global/cscratch1/sd/hiramk/desi/priority_tests/fba/fba-011164.fits\n",
      "INFO: Writing tile 11164\n",
      "WARNING: Overwriting /global/cscratch1/sd/hiramk/desi/priority_tests/fba/fba-016837.fits\n",
      "INFO: Writing tile 16837\n",
      "WARNING: Overwriting /global/cscratch1/sd/hiramk/desi/priority_tests/fba/fba-022599.fits\n",
      "INFO: Writing tile 22599\n",
      "WARNING: Overwriting /global/cscratch1/sd/hiramk/desi/priority_tests/fba/fba-022687.fits\n",
      "INFO: Writing tile 22687\n",
      "WARNING: Overwriting /global/cscratch1/sd/hiramk/desi/priority_tests/fba/fba-028360.fits\n",
      "INFO: Writing tile 28360\n",
      "WARNING: Overwriting /global/cscratch1/sd/hiramk/desi/priority_tests/fba/fba-028361.fits\n",
      "INFO: Writing tile 28361\n",
      "WARNING: Overwriting /global/cscratch1/sd/hiramk/desi/priority_tests/fba/fba-028378.fits\n",
      "INFO: Writing tile 28378\n",
      "WARNING: Overwriting /global/cscratch1/sd/hiramk/desi/priority_tests/fba/fba-028433.fits\n",
      "INFO: Writing tile 28433\n",
      "WARNING: Overwriting /global/cscratch1/sd/hiramk/desi/priority_tests/fba/fba-028449.fits\n",
      "INFO: Writing tile 28449\n",
      "WARNING: Overwriting /global/cscratch1/sd/hiramk/desi/priority_tests/fba/fba-028450.fits\n",
      "INFO: Writing tile 28450\n",
      "WARNING: Overwriting /global/cscratch1/sd/hiramk/desi/priority_tests/fba/fba-028451.fits\n",
      "INFO: Writing tile 28451\n",
      "INFO: Write output files:  4.73 seconds (1 calls)\n",
      "INFO: Global timer: Assignment ctor: project targets:  0.79 seconds (1 calls)\n",
      "INFO: Global timer: Assignment ctor: total:  0.79 seconds (1 calls)\n",
      "INFO: Global timer: force sky: local tile availability:  0.29 seconds (37 calls)\n",
      "INFO: Global timer: force sky: local tile compute science assignment:  0.07 seconds (37 calls)\n",
      "INFO: Global timer: force sky: total:  0.42 seconds (1 calls)\n",
      "INFO: Global timer: force standard: local tile availability:  0.10 seconds (37 calls)\n",
      "INFO: Global timer: force standard: local tile compute science assignment:  0.07 seconds (37 calls)\n",
      "INFO: Global timer: force standard: total:  0.23 seconds (1 calls)\n",
      "INFO: Global timer: force suppsky: local tile availability:  0.08 seconds (37 calls)\n",
      "INFO: Global timer: force suppsky: local tile compute science assignment:  0.07 seconds (37 calls)\n",
      "INFO: Global timer: force suppsky: total:  0.21 seconds (1 calls)\n",
      "INFO: Global timer: redistribute science: total:  0.32 seconds (1 calls)\n",
      "INFO: Global timer: run_assign_full calculation:  17.42 seconds (1 calls)\n",
      "INFO: Global timer: run_assign_full write output:  4.73 seconds (1 calls)\n",
      "INFO: Global timer: unused safe: local tile availability:  0.04 seconds (74 calls)\n",
      "INFO: Global timer: unused safe: total:  0.04 seconds (2 calls)\n",
      "INFO: Global timer: unused science: local tile availability:  0.49 seconds (74 calls)\n",
      "INFO: Global timer: unused science: total:  2.89 seconds (2 calls)\n",
      "INFO: Global timer: unused sky: local tile availability:  0.49 seconds (111 calls)\n",
      "INFO: Global timer: unused sky: total:  3.22 seconds (3 calls)\n",
      "INFO: Global timer: unused standard: local tile availability:  0.19 seconds (74 calls)\n",
      "INFO: Global timer: unused standard: total:  0.32 seconds (2 calls)\n",
      "INFO: Global timer: unused suppsky: local tile availability:  0.11 seconds (111 calls)\n",
      "INFO: Global timer: unused suppsky: total:  0.11 seconds (3 calls)\n",
      "INFO: Read /global/cscratch1/sd/hiramk/desi/priority_tests/mtl-dark.fits into shared memory:  1.02 seconds (1 calls)\n",
      "INFO: Read /global/cscratch1/sd/hiramk/desi/priority_tests/sky.fits into shared memory:  1.17 seconds (1 calls)\n",
      "INFO: Read /global/cscratch1/sd/hiramk/desi/priority_tests/sky.fits into shared memory:  1.16 seconds (1 calls)\n",
      "INFO: Reading raw tile data /global/cscratch1/sd/hiramk/desi/priority_tests/fba/fba-005331.fits\n",
      "INFO: Reading raw tile data /global/cscratch1/sd/hiramk/desi/priority_tests/fba/fba-028451.fits\n",
      "INFO: Reading raw tile data /global/cscratch1/sd/hiramk/desi/priority_tests/fba/fba-005401.fits\n",
      "INFO: Reading raw tile data /global/cscratch1/sd/hiramk/desi/priority_tests/fba/fba-005385.fits\n",
      "INFO: Reading raw tile data /global/cscratch1/sd/hiramk/desi/priority_tests/fba/fba-005291.fits\n",
      "INFO: Reading raw tile data /global/cscratch1/sd/hiramk/desi/priority_tests/fba/fba-011072.fits\n",
      "INFO: Reading raw tile data /global/cscratch1/sd/hiramk/desi/priority_tests/fba/fba-028378.fits\n",
      "INFO: Reading raw tile data /global/cscratch1/sd/hiramk/desi/priority_tests/fba/fba-028361.fits\n",
      "INFO: Reading raw tile data /global/cscratch1/sd/hiramk/desi/priority_tests/fba/fba-028450.fits\n",
      "INFO: Reading raw tile data /global/cscratch1/sd/hiramk/desi/priority_tests/fba/fba-005332.fits\n",
      "INFO: Reading raw tile data /global/cscratch1/sd/hiramk/desi/priority_tests/fba/fba-011095.fits\n",
      "INFO: Reading raw tile data /global/cscratch1/sd/hiramk/desi/priority_tests/fba/fba-005384.fits\n",
      "INFO: Reading raw tile data /global/cscratch1/sd/hiramk/desi/priority_tests/fba/fba-005330.fits\n",
      "INFO: Reading raw tile data /global/cscratch1/sd/hiramk/desi/priority_tests/fba/fba-028360.fits\n",
      "INFO: Reading raw tile data /global/cscratch1/sd/hiramk/desi/priority_tests/fba/fba-011145.fits\n",
      "INFO: Reading raw tile data /global/cscratch1/sd/hiramk/desi/priority_tests/fba/fba-011146.fits\n",
      "INFO: Reading raw tile data /global/cscratch1/sd/hiramk/desi/priority_tests/fba/fba-011094.fits\n",
      "INFO: Reading raw tile data /global/cscratch1/sd/hiramk/desi/priority_tests/fba/fba-011093.fits\n",
      "INFO: Reading raw tile data /global/cscratch1/sd/hiramk/desi/priority_tests/fba/fba-028433.fits\n",
      "INFO: Reading raw tile data /global/cscratch1/sd/hiramk/desi/priority_tests/fba/fba-011053.fits\n",
      "INFO: Reading raw tile data /global/cscratch1/sd/hiramk/desi/priority_tests/fba/fba-028449.fits\n",
      "INFO: Reading raw tile data /global/cscratch1/sd/hiramk/desi/priority_tests/fba/fba-022599.fits\n",
      "INFO: Reading raw tile data /global/cscratch1/sd/hiramk/desi/priority_tests/fba/fba-016837.fits\n",
      "INFO: Reading raw tile data /global/cscratch1/sd/hiramk/desi/priority_tests/fba/fba-005402.fits\n",
      "INFO: Reading raw tile data /global/cscratch1/sd/hiramk/desi/priority_tests/fba/fba-005313.fits\n",
      "INFO: Reading raw tile data /global/cscratch1/sd/hiramk/desi/priority_tests/fba/fba-011163.fits\n",
      "INFO: Reading raw tile data /global/cscratch1/sd/hiramk/desi/priority_tests/fba/fba-011147.fits\n",
      "INFO: Reading raw tile data /global/cscratch1/sd/hiramk/desi/priority_tests/fba/fba-011075.fits\n",
      "INFO: Reading raw tile data /global/cscratch1/sd/hiramk/desi/priority_tests/fba/fba-011092.fits\n",
      "INFO: Reading raw tile data /global/cscratch1/sd/hiramk/desi/priority_tests/fba/fba-011074.fits\n",
      "INFO: Reading raw tile data /global/cscratch1/sd/hiramk/desi/priority_tests/fba/fba-011073.fits\n",
      "INFO: Reading raw tile data /global/cscratch1/sd/hiramk/desi/priority_tests/fba/fba-005312.fits\n",
      "ERROR: REF_EPOCH not set, using 2015.5\n",
      "ERROR: REF_EPOCH not set, using 2015.5\n",
      "ERROR: REF_EPOCH not set, using 2015.5\n",
      "ERROR: REF_EPOCH not set, using 2015.5\n",
      "ERROR: REF_EPOCH not set, using 2015.5\n",
      "ERROR: REF_EPOCH not set, using 2015.5\n",
      "ERROR: REF_EPOCH not set, using 2015.5\n",
      "ERROR: REF_EPOCH not set, using 2015.5\n",
      "ERROR: REF_EPOCH not set, using 2015.5\n",
      "INFO: Writing new data /global/cscratch1/sd/hiramk/desi/priority_tests/fba/fiberassign-005401.fits\n",
      "INFO: Writing new data /global/cscratch1/sd/hiramk/desi/priority_tests/fba/fiberassign-011093.fits\n",
      "INFO: Writing new data /global/cscratch1/sd/hiramk/desi/priority_tests/fba/fiberassign-005332.fits\n",
      "INFO: Writing new data /global/cscratch1/sd/hiramk/desi/priority_tests/fba/fiberassign-011145.fits\n",
      "ERROR: REF_EPOCH not set, using 2015.5\n",
      "ERROR: REF_EPOCH not set, using 2015.5\n",
      "INFO: Writing new data /global/cscratch1/sd/hiramk/desi/priority_tests/fba/fiberassign-005331.fits\n",
      "ERROR: REF_EPOCH not set, using 2015.5\n",
      "INFO: Writing new data /global/cscratch1/sd/hiramk/desi/priority_tests/fba/fiberassign-011075.fits\n",
      "INFO: Writing new data /global/cscratch1/sd/hiramk/desi/priority_tests/fba/fiberassign-011073.fits\n",
      "ERROR: REF_EPOCH not set, using 2015.5\n",
      "INFO: Writing new data /global/cscratch1/sd/hiramk/desi/priority_tests/fba/fiberassign-028450.fits\n",
      "INFO: Writing new data /global/cscratch1/sd/hiramk/desi/priority_tests/fba/fiberassign-028451.fits\n",
      "INFO: Writing new data /global/cscratch1/sd/hiramk/desi/priority_tests/fba/fiberassign-005385.fits\n",
      "INFO: Writing new data /global/cscratch1/sd/hiramk/desi/priority_tests/fba/fiberassign-005312.fits\n",
      "INFO: Writing new data /global/cscratch1/sd/hiramk/desi/priority_tests/fba/fiberassign-011163.fits\n",
      "ERROR: REF_EPOCH not set, using 2015.5\n",
      "INFO: Writing new data /global/cscratch1/sd/hiramk/desi/priority_tests/fba/fiberassign-011092.fits\n",
      "INFO: Writing new data /global/cscratch1/sd/hiramk/desi/priority_tests/fba/fiberassign-011095.fits\n",
      "ERROR: REF_EPOCH not set, using 2015.5\n",
      "ERROR: REF_EPOCH not set, using 2015.5\n",
      "INFO: Writing new data /global/cscratch1/sd/hiramk/desi/priority_tests/fba/fiberassign-022599.fits\n",
      "INFO: Writing new data /global/cscratch1/sd/hiramk/desi/priority_tests/fba/fiberassign-011146.fits\n",
      "ERROR: REF_EPOCH not set, using 2015.5\n",
      "ERROR: REF_EPOCH not set, using 2015.5\n",
      "INFO: Writing new data /global/cscratch1/sd/hiramk/desi/priority_tests/fba/fiberassign-028361.fits\n",
      "INFO: Writing new data /global/cscratch1/sd/hiramk/desi/priority_tests/fba/fiberassign-011074.fits\n",
      "ERROR: REF_EPOCH not set, using 2015.5\n",
      "INFO: Writing new data /global/cscratch1/sd/hiramk/desi/priority_tests/fba/fiberassign-011147.fits\n",
      "ERROR: REF_EPOCH not set, using 2015.5\n",
      "INFO: Writing new data /global/cscratch1/sd/hiramk/desi/priority_tests/fba/fiberassign-011094.fits\n",
      "ERROR: REF_EPOCH not set, using 2015.5\n",
      "ERROR: REF_EPOCH not set, using 2015.5\n",
      "ERROR: REF_EPOCH not set, using 2015.5\n",
      "INFO: Writing new data /global/cscratch1/sd/hiramk/desi/priority_tests/fba/fiberassign-028360.fits\n",
      "INFO: Writing new data /global/cscratch1/sd/hiramk/desi/priority_tests/fba/fiberassign-028433.fits\n",
      "INFO: Writing new data /global/cscratch1/sd/hiramk/desi/priority_tests/fba/fiberassign-016837.fits\n",
      "ERROR: REF_EPOCH not set, using 2015.5\n",
      "ERROR: REF_EPOCH not set, using 2015.5\n",
      "INFO: Writing new data /global/cscratch1/sd/hiramk/desi/priority_tests/fba/fiberassign-005330.fits\n",
      "INFO: Writing new data /global/cscratch1/sd/hiramk/desi/priority_tests/fba/fiberassign-028378.fits\n",
      "INFO: Reading raw tile data /global/cscratch1/sd/hiramk/desi/priority_tests/fba/fba-005383.fits\n",
      "INFO: Reading raw tile data /global/cscratch1/sd/hiramk/desi/priority_tests/fba/fba-011164.fits\n",
      "INFO: Reading raw tile data /global/cscratch1/sd/hiramk/desi/priority_tests/fba/fba-022687.fits\n",
      "INFO: Reading raw tile data /global/cscratch1/sd/hiramk/desi/priority_tests/fba/fba-005314.fits\n",
      "INFO: Reading raw tile data /global/cscratch1/sd/hiramk/desi/priority_tests/fba/fba-005311.fits\n",
      "ERROR: REF_EPOCH not set, using 2015.5\n",
      "INFO: Writing new data /global/cscratch1/sd/hiramk/desi/priority_tests/fba/fiberassign-011072.fits\n",
      "ERROR: REF_EPOCH not set, using 2015.5\n",
      "INFO: Writing new data /global/cscratch1/sd/hiramk/desi/priority_tests/fba/fiberassign-005402.fits\n",
      "ERROR: REF_EPOCH not set, using 2015.5\n",
      "ERROR: REF_EPOCH not set, using 2015.5\n",
      "INFO: Writing new data /global/cscratch1/sd/hiramk/desi/priority_tests/fba/fiberassign-005313.fits\n",
      "ERROR: REF_EPOCH not set, using 2015.5\n",
      "INFO: Writing new data /global/cscratch1/sd/hiramk/desi/priority_tests/fba/fiberassign-011053.fits\n",
      "INFO: Writing new data /global/cscratch1/sd/hiramk/desi/priority_tests/fba/fiberassign-005291.fits\n",
      "ERROR: REF_EPOCH not set, using 2015.5\n",
      "INFO: Writing new data /global/cscratch1/sd/hiramk/desi/priority_tests/fba/fiberassign-005384.fits\n",
      "ERROR: REF_EPOCH not set, using 2015.5\n",
      "INFO: Writing new data /global/cscratch1/sd/hiramk/desi/priority_tests/fba/fiberassign-028449.fits\n",
      "ERROR: REF_EPOCH not set, using 2015.5\n",
      "INFO: Writing new data /global/cscratch1/sd/hiramk/desi/priority_tests/fba/fiberassign-005314.fits\n",
      "ERROR: REF_EPOCH not set, using 2015.5\n",
      "ERROR: REF_EPOCH not set, using 2015.5\n",
      "INFO: Writing new data /global/cscratch1/sd/hiramk/desi/priority_tests/fba/fiberassign-005383.fits\n",
      "INFO: Writing new data /global/cscratch1/sd/hiramk/desi/priority_tests/fba/fiberassign-005311.fits\n",
      "ERROR: REF_EPOCH not set, using 2015.5\n",
      "INFO: Writing new data /global/cscratch1/sd/hiramk/desi/priority_tests/fba/fiberassign-011164.fits\n",
      "ERROR: REF_EPOCH not set, using 2015.5\n",
      "INFO: Writing new data /global/cscratch1/sd/hiramk/desi/priority_tests/fba/fiberassign-022687.fits\n",
      "\n",
      "--- SUCCESS ---\n"
     ]
    }
   ],
   "source": [
    "print('RUNNING: '+cmd)\n",
    "try:\n",
    "    results = subprocess.check_output(cmd.split(), stderr=subprocess.STDOUT)\n",
    "    print(results.decode())\n",
    "    print('--- SUCCESS ---')\n",
    "except subprocess.CalledProcessError as ex:\n",
    "    print('--- ERROR {} ---'.format(ex.returncode))\n",
    "    print(ex.output.decode())\n",
    "    raise ex"
   ]
  },
  {
   "cell_type": "code",
   "execution_count": 18,
   "metadata": {},
   "outputs": [],
   "source": [
    "fba_files = np.sort(glob.glob(os.path.join(fbadir,\"fiberassign*.fits\")))"
   ]
  },
  {
   "cell_type": "code",
   "execution_count": 19,
   "metadata": {},
   "outputs": [
    {
     "name": "stdout",
     "output_type": "stream",
     "text": [
      "INFO:quickcat.py:585:quickcat: Thu Apr  9 12:56:35 2020 QC Reading 37 tiles\n",
      "INFO:quickcat.py:629:quickcat: Thu Apr  9 12:56:43 2020 QC Trimming truth to just observed targets\n",
      "INFO:quickcat.py:636:quickcat: Thu Apr  9 12:56:43 2020 QC Constructing new redshift catalog\n",
      "INFO:quickcat.py:648:quickcat: Thu Apr  9 12:56:43 2020 QC Adding ZERR and ZWARN\n",
      "INFO:quickcat.py:666:quickcat: Thu Apr  9 12:56:43 2020 QC Adding NUMOBS column\n",
      "INFO:quickcat.py:672:quickcat: Thu Apr  9 12:56:43 2020 QC Merging previous zcat\n",
      "INFO:quickcat.py:719:quickcat: Thu Apr  9 12:56:43 2020 QC done\n"
     ]
    },
    {
     "data": {
      "text/html": [
       "&lt;Table length=97945&gt;\n",
       "<table id=\"table46913452268176\" class=\"table-striped table-bordered table-condensed\">\n",
       "<thead><tr><th>TARGETID</th><th>BRICKNAME</th><th>SPECTYPE</th><th>Z</th><th>ZERR</th><th>ZWARN</th><th>NUMOBS</th></tr></thead>\n",
       "<thead><tr><th>int64</th><th>str8</th><th>str10</th><th>float32</th><th>float32</th><th>int32</th><th>int32</th></tr></thead>\n",
       "<tr><td>288230383395275605</td><td></td><td>QSO</td><td>2.313405</td><td>0.0</td><td>0</td><td>1</td></tr>\n",
       "<tr><td>288230383395275606</td><td></td><td>QSO</td><td>2.5355</td><td>0.0</td><td>0</td><td>1</td></tr>\n",
       "<tr><td>288230383395275610</td><td></td><td>QSO</td><td>2.1095347</td><td>0.0</td><td>0</td><td>1</td></tr>\n",
       "<tr><td>288230383395275617</td><td></td><td>QSO</td><td>2.3436482</td><td>0.0</td><td>0</td><td>1</td></tr>\n",
       "<tr><td>288230383395275688</td><td></td><td>QSO</td><td>2.4378078</td><td>0.0</td><td>0</td><td>1</td></tr>\n",
       "<tr><td>288230383395275689</td><td></td><td>QSO</td><td>2.373335</td><td>0.0</td><td>0</td><td>1</td></tr>\n",
       "<tr><td>288230383395275690</td><td></td><td>QSO</td><td>2.1967018</td><td>0.0</td><td>0</td><td>1</td></tr>\n",
       "<tr><td>288230383395275692</td><td></td><td>QSO</td><td>1.8533612</td><td>0.0</td><td>0</td><td>2</td></tr>\n",
       "<tr><td>288230383395275693</td><td></td><td>QSO</td><td>2.7981534</td><td>0.0</td><td>0</td><td>2</td></tr>\n",
       "<tr><td>288230383395275694</td><td></td><td>QSO</td><td>2.270966</td><td>0.0</td><td>0</td><td>1</td></tr>\n",
       "<tr><td>...</td><td>...</td><td>...</td><td>...</td><td>...</td><td>...</td><td>...</td></tr>\n",
       "<tr><td>288230377544237877</td><td></td><td>QSO</td><td>1.4095037</td><td>0.0</td><td>0</td><td>1</td></tr>\n",
       "<tr><td>288230377544237878</td><td></td><td>QSO</td><td>0.9517973</td><td>0.0</td><td>0</td><td>1</td></tr>\n",
       "<tr><td>288230377544237889</td><td></td><td>QSO</td><td>1.081353</td><td>0.0</td><td>0</td><td>1</td></tr>\n",
       "<tr><td>288230377544237896</td><td></td><td>QSO</td><td>0.7900087</td><td>0.0</td><td>0</td><td>1</td></tr>\n",
       "<tr><td>288230377544237897</td><td></td><td>QSO</td><td>0.84807837</td><td>0.0</td><td>0</td><td>1</td></tr>\n",
       "<tr><td>288230377544237899</td><td></td><td>QSO</td><td>1.1218117</td><td>0.0</td><td>0</td><td>1</td></tr>\n",
       "<tr><td>288230377544237902</td><td></td><td>QSO</td><td>1.5996867</td><td>0.0</td><td>0</td><td>1</td></tr>\n",
       "<tr><td>288230377544237903</td><td></td><td>QSO</td><td>1.0795877</td><td>0.0</td><td>0</td><td>1</td></tr>\n",
       "<tr><td>288230377544237906</td><td></td><td>QSO</td><td>1.1194216</td><td>0.0</td><td>0</td><td>1</td></tr>\n",
       "<tr><td>288230377544238837</td><td></td><td>WD</td><td>-2.2015229e-05</td><td>0.0</td><td>0</td><td>1</td></tr>\n",
       "</table>"
      ],
      "text/plain": [
       "<Table length=97945>\n",
       "     TARGETID      BRICKNAME SPECTYPE       Z          ZERR  ZWARN NUMOBS\n",
       "      int64           str8    str10      float32     float32 int32 int32 \n",
       "------------------ --------- -------- -------------- ------- ----- ------\n",
       "288230383395275605                QSO       2.313405     0.0     0      1\n",
       "288230383395275606                QSO         2.5355     0.0     0      1\n",
       "288230383395275610                QSO      2.1095347     0.0     0      1\n",
       "288230383395275617                QSO      2.3436482     0.0     0      1\n",
       "288230383395275688                QSO      2.4378078     0.0     0      1\n",
       "288230383395275689                QSO       2.373335     0.0     0      1\n",
       "288230383395275690                QSO      2.1967018     0.0     0      1\n",
       "288230383395275692                QSO      1.8533612     0.0     0      2\n",
       "288230383395275693                QSO      2.7981534     0.0     0      2\n",
       "288230383395275694                QSO       2.270966     0.0     0      1\n",
       "               ...       ...      ...            ...     ...   ...    ...\n",
       "288230377544237877                QSO      1.4095037     0.0     0      1\n",
       "288230377544237878                QSO      0.9517973     0.0     0      1\n",
       "288230377544237889                QSO       1.081353     0.0     0      1\n",
       "288230377544237896                QSO      0.7900087     0.0     0      1\n",
       "288230377544237897                QSO     0.84807837     0.0     0      1\n",
       "288230377544237899                QSO      1.1218117     0.0     0      1\n",
       "288230377544237902                QSO      1.5996867     0.0     0      1\n",
       "288230377544237903                QSO      1.0795877     0.0     0      1\n",
       "288230377544237906                QSO      1.1194216     0.0     0      1\n",
       "288230377544238837                 WD -2.2015229e-05     0.0     0      1"
      ]
     },
     "execution_count": 19,
     "metadata": {},
     "output_type": "execute_result"
    }
   ],
   "source": [
    "#Create a first zcatalog as it is done in multipass,  https://github.com/forero/multipass/blob/42c9d13c5ceb9a61c362e2f8117acb697fc29735/run_multilayer.py#L342-L346. \n",
    "zcat=quickcat(fba_files,Table.read(mtl_reduced),Table.read(truth_reduced),perfect=True)\n",
    "zcat"
   ]
  },
  {
   "cell_type": "code",
   "execution_count": 20,
   "metadata": {},
   "outputs": [
    {
     "name": "stdout",
     "output_type": "stream",
     "text": [
      "INFO:mtl.py:161:make_mtl: 93730 of 297792 targets have priority zero, setting N_obs=0.\n",
      "INFO:mtl.py:197:make_mtl: Done...t=0.4s\n"
     ]
    }
   ],
   "source": [
    "old_mtl = Table(fitsio.read(mtl_reduced))\n",
    "new_mtl = mtl.make_mtl(old_mtl,\"DARK|GRAY\", zcat=zcat)"
   ]
  },
  {
   "cell_type": "code",
   "execution_count": 21,
   "metadata": {},
   "outputs": [],
   "source": [
    "w=~np.isin(new_mtl['TARGETID'],zcat['TARGETID']) #Unobserved targets"
   ]
  },
  {
   "cell_type": "code",
   "execution_count": 22,
   "metadata": {},
   "outputs": [],
   "source": [
    "pixels=desimodel.footprint.tiles2pix(nside=16, tiles=tiles)\n",
    "def plot_tile(ra, dec, r=1.606, color='k'):\n",
    "    '''Approximate plot of tile location'''\n",
    "    ang = np.linspace(0, 2*np.pi, 100)\n",
    "    x = ra + r*np.cos(ang)/np.cos(np.radians(dec))\n",
    "    y = dec + r*np.sin(ang)\n",
    "    plt.plot(x,y, '-', color=color, alpha=0.9)"
   ]
  },
  {
   "cell_type": "code",
   "execution_count": null,
   "metadata": {},
   "outputs": [
    {
     "data": {
      "text/plain": [
       "(142.3329515793888, 167.04659105158487, 13.422875676514966, 36.734948165011865)"
      ]
     },
     "execution_count": 24,
     "metadata": {},
     "output_type": "execute_result"
    }
   ],
   "source": [
    "figure(figsize=(10,10))\n",
    "plt.plot(new_mtl['RA'][w],new_mtl['DEC'][w],'k.',label='TARGETS',markersize=1,alpha=0.1)\n",
    "color = dict(DARK='k', GRAY='b', BRIGHT='m')\n",
    "for program in ['DARK', 'GRAY']:\n",
    "    ii = tiles['PROGRAM'] == program\n",
    "    plt.plot(tiles['RA'][ii], tiles['DEC'][ii], '.', color=color[program],label=program, alpha=0.9)\n",
    "    jj = tiles['PROGRAM'] == program\n",
    "    for t in tiles[jj]:\n",
    "        plot_tile(t['RA'], t['DEC'], color=color[program])\n",
    "    plt.legend()\n",
    "plt.xlabel('RA')\n",
    "plt.ylabel('DEC')\n",
    "plt.axis('equal')"
   ]
  },
  {
   "cell_type": "markdown",
   "metadata": {},
   "source": [
    "## TO DO:\n",
    " - You can add some non-zero warnings before saving the  zcatalog\n",
    " - You could also add some random error within a reasonable range\n",
    " - Save the zcatalog and use it to update the mtl file and run fiberassign again.  zcat.write('./zcat.fits',overwrite=True)\n",
    " - Check that the reobservation occurs as expected. \n",
    " - Continue to try to modify the behaviour of reobservation if we provide information from other classifiers... \n",
    " - Repit using an all target type catalog. "
   ]
  }
 ],
 "metadata": {
  "kernelspec": {
   "display_name": "DESI master",
   "language": "python",
   "name": "desi-master"
  },
  "language_info": {
   "codemirror_mode": {
    "name": "ipython",
    "version": 3
   },
   "file_extension": ".py",
   "mimetype": "text/x-python",
   "name": "python",
   "nbconvert_exporter": "python",
   "pygments_lexer": "ipython3",
   "version": "3.6.6"
  }
 },
 "nbformat": 4,
 "nbformat_minor": 4
}
