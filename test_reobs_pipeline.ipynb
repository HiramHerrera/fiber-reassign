{
 "cells": [
  {
   "cell_type": "code",
   "execution_count": 1,
   "metadata": {},
   "outputs": [
    {
     "name": "stdout",
     "output_type": "stream",
     "text": [
      "Populating the interactive namespace from numpy and matplotlib\n"
     ]
    }
   ],
   "source": [
    "import os,sys,glob,fitsio,subprocess\n",
    "import matplotlib.pyplot as plt\n",
    "import numpy as np\n",
    "import healpy as hp\n",
    "import astropy.io\n",
    "from astropy.io import fits\n",
    "from astropy.table import Table, Column\n",
    "import desimodel.io\n",
    "import desimodel.footprint\n",
    "import matplotlib.style\n",
    "import matplotlib as mpl\n",
    "from desitarget import mtl\n",
    "from desisim.quickcat import quickcat\n",
    "%pylab inline"
   ]
  },
  {
   "cell_type": "markdown",
   "metadata": {},
   "source": [
    "# Setting output path for this notebook"
   ]
  },
  {
   "cell_type": "code",
   "execution_count": 2,
   "metadata": {},
   "outputs": [
    {
     "name": "stdout",
     "output_type": "stream",
     "text": [
      "Working on /global/cscratch1/sd/hiramk/desi/priority_tests/\n"
     ]
    }
   ],
   "source": [
    "\n",
    "# Change this path if you want\n",
    "outdir= os.path.join(os.environ['SCRATCH'],'desi/priority_tests/')\n",
    "os.makedirs(outdir, exist_ok=True)\n",
    "print('Working on {}'.format(outdir))"
   ]
  },
  {
   "cell_type": "markdown",
   "metadata": {},
   "source": [
    "# Selecting the Year 1 footprint from a surveysim"
   ]
  },
  {
   "cell_type": "markdown",
   "metadata": {},
   "source": [
    "First we read the exposure.fits file from surveysims path"
   ]
  },
  {
   "cell_type": "code",
   "execution_count": 3,
   "metadata": {},
   "outputs": [
    {
     "data": {
      "text/html": [
       "&lt;Table length=5&gt;\n",
       "<table id=\"table46913423389024\" class=\"table-striped table-bordered table-condensed\">\n",
       "<thead><tr><th>MJD</th><th>EXPTIME</th><th>TILEID</th><th>SNR2FRAC</th><th>AIRMASS</th><th>SEEING</th><th>TRANSP</th><th>SKY</th></tr></thead>\n",
       "<thead><tr><th>float64</th><th>float32</th><th>int32</th><th>float32</th><th>float32</th><th>float32</th><th>float32</th><th>float32</th></tr></thead>\n",
       "<tr><td>58819.063888888886</td><td>920.0</td><td>28576</td><td>0.5002821</td><td>1.0944833</td><td>1.01959</td><td>0.9735375</td><td>1.0</td></tr>\n",
       "<tr><td>58819.07523148129</td><td>660.0</td><td>28576</td><td>1.00477</td><td>1.0944833</td><td>0.9895672</td><td>0.9818349</td><td>1.0</td></tr>\n",
       "<tr><td>58819.08425925893</td><td>1080.0</td><td>28589</td><td>0.50211537</td><td>1.093335</td><td>1.1533324</td><td>0.96132696</td><td>1.0</td></tr>\n",
       "<tr><td>58819.09745370316</td><td>650.0</td><td>28589</td><td>1.0113196</td><td>1.093335</td><td>0.87564546</td><td>0.9578879</td><td>1.0</td></tr>\n",
       "<tr><td>58819.10636574006</td><td>610.0</td><td>28588</td><td>0.5042863</td><td>1.096941</td><td>0.77289426</td><td>0.9925911</td><td>1.0</td></tr>\n",
       "</table>"
      ],
      "text/plain": [
       "<Table length=5>\n",
       "       MJD         EXPTIME TILEID  SNR2FRAC  ...   SEEING     TRANSP     SKY  \n",
       "     float64       float32 int32   float32   ...  float32    float32   float32\n",
       "------------------ ------- ------ ---------- ... ---------- ---------- -------\n",
       "58819.063888888886   920.0  28576  0.5002821 ...    1.01959  0.9735375     1.0\n",
       " 58819.07523148129   660.0  28576    1.00477 ...  0.9895672  0.9818349     1.0\n",
       " 58819.08425925893  1080.0  28589 0.50211537 ...  1.1533324 0.96132696     1.0\n",
       " 58819.09745370316   650.0  28589  1.0113196 ... 0.87564546  0.9578879     1.0\n",
       " 58819.10636574006   610.0  28588  0.5042863 ... 0.77289426  0.9925911     1.0"
      ]
     },
     "execution_count": 3,
     "metadata": {},
     "output_type": "execute_result"
    }
   ],
   "source": [
    "sim_path = \"/project/projectdirs/desi/datachallenge/surveysim2018/weather/035/\"\n",
    "exposures = Table.read(os.path.join(sim_path,'exposures.fits'), hdu=1)\n",
    "exposures[:5]"
   ]
  },
  {
   "cell_type": "markdown",
   "metadata": {},
   "source": [
    "Find which tiles are covered during first year"
   ]
  },
  {
   "cell_type": "code",
   "execution_count": 4,
   "metadata": {},
   "outputs": [],
   "source": [
    "cadence=365\n",
    "w=np.where(np.int_((exposures['MJD']-exposures['MJD'].min())/cadence)==0)"
   ]
  },
  {
   "cell_type": "code",
   "execution_count": 5,
   "metadata": {},
   "outputs": [
    {
     "data": {
      "text/html": [
       "&lt;Table length=5&gt;\n",
       "<table id=\"table46912573559416\" class=\"table-striped table-bordered table-condensed\">\n",
       "<thead><tr><th>MJD</th><th>EXPTIME</th><th>TILEID</th><th>SNR2FRAC</th><th>AIRMASS</th><th>SEEING</th><th>TRANSP</th><th>SKY</th></tr></thead>\n",
       "<thead><tr><th>float64</th><th>float32</th><th>int32</th><th>float32</th><th>float32</th><th>float32</th><th>float32</th><th>float32</th></tr></thead>\n",
       "<tr><td>58819.063888888886</td><td>920.0</td><td>28576</td><td>0.5002821</td><td>1.0944833</td><td>1.01959</td><td>0.9735375</td><td>1.0</td></tr>\n",
       "<tr><td>58819.07523148129</td><td>660.0</td><td>28576</td><td>1.00477</td><td>1.0944833</td><td>0.9895672</td><td>0.9818349</td><td>1.0</td></tr>\n",
       "<tr><td>58819.08425925893</td><td>1080.0</td><td>28589</td><td>0.50211537</td><td>1.093335</td><td>1.1533324</td><td>0.96132696</td><td>1.0</td></tr>\n",
       "<tr><td>58819.09745370316</td><td>650.0</td><td>28589</td><td>1.0113196</td><td>1.093335</td><td>0.87564546</td><td>0.9578879</td><td>1.0</td></tr>\n",
       "<tr><td>58819.10636574006</td><td>610.0</td><td>28588</td><td>0.5042863</td><td>1.096941</td><td>0.77289426</td><td>0.9925911</td><td>1.0</td></tr>\n",
       "</table>"
      ],
      "text/plain": [
       "<Table length=5>\n",
       "       MJD         EXPTIME TILEID  SNR2FRAC  ...   SEEING     TRANSP     SKY  \n",
       "     float64       float32 int32   float32   ...  float32    float32   float32\n",
       "------------------ ------- ------ ---------- ... ---------- ---------- -------\n",
       "58819.063888888886   920.0  28576  0.5002821 ...    1.01959  0.9735375     1.0\n",
       " 58819.07523148129   660.0  28576    1.00477 ...  0.9895672  0.9818349     1.0\n",
       " 58819.08425925893  1080.0  28589 0.50211537 ...  1.1533324 0.96132696     1.0\n",
       " 58819.09745370316   650.0  28589  1.0113196 ... 0.87564546  0.9578879     1.0\n",
       " 58819.10636574006   610.0  28588  0.5042863 ... 0.77289426  0.9925911     1.0"
      ]
     },
     "execution_count": 5,
     "metadata": {},
     "output_type": "execute_result"
    }
   ],
   "source": [
    "year1=exposures[w]\n",
    "year1[:5]"
   ]
  },
  {
   "cell_type": "markdown",
   "metadata": {},
   "source": [
    "For this test we will use a small area (100 sq.deg), so first we will get those tiles in a 100 sq.deg"
   ]
  },
  {
   "cell_type": "code",
   "execution_count": 6,
   "metadata": {},
   "outputs": [
    {
     "name": "stdout",
     "output_type": "stream",
     "text": [
      "There are 63 tiles in this area.\n"
     ]
    }
   ],
   "source": [
    "alltiles = Table(desimodel.io.load_tiles())\n",
    "not_bright = alltiles['PROGRAM']!='BRIGHT' # We are only insterested in GREY|DARK targets\n",
    "tiles= alltiles[not_bright]\n",
    "\n",
    "# Change this line if needed, if not needed comment, next twolines\n",
    "ii = (150 < tiles['RA']) & (tiles['RA']<160) & (20<tiles['DEC']) & (tiles['DEC']<30)\n",
    "tiles=tiles[ii]\n",
    "\n",
    "print('There are {} tiles in this area.'.format(len(tiles)))"
   ]
  },
  {
   "cell_type": "markdown",
   "metadata": {},
   "source": [
    "Now lets see which of those tiles are covered on the first year and save the exposures.fits file for this area. This is needed to run multipass"
   ]
  },
  {
   "cell_type": "code",
   "execution_count": 7,
   "metadata": {},
   "outputs": [
    {
     "name": "stdout",
     "output_type": "stream",
     "text": [
      "There are 37 year 1 tiles in this area.\n"
     ]
    }
   ],
   "source": [
    "w=np.isin(tiles['TILEID'],year1['TILEID'])\n",
    "tiles=tiles[w]\n",
    "print('There are {} year 1 tiles in this area.'.format(len(tiles)))\n",
    "tiles.write(outdir+'/reduced_tiles.fits',overwrite=True)"
   ]
  },
  {
   "cell_type": "code",
   "execution_count": 8,
   "metadata": {},
   "outputs": [
    {
     "name": "stdout",
     "output_type": "stream",
     "text": [
      "Tiles with PASS = 0: 13\n",
      "Tiles with PASS = 1: 14\n",
      "Tiles with PASS = 2:  1\n",
      "Tiles with PASS = 3:  2\n",
      "Tiles with PASS = 4:  7\n"
     ]
    }
   ],
   "source": [
    "pass_num,count= np.unique(tiles['PASS'],return_counts=True)\n",
    "for p,c in zip(pass_num,count):\n",
    "    print('Tiles with PASS = {:d}: {:2d}'.format(p,c))"
   ]
  },
  {
   "cell_type": "code",
   "execution_count": 9,
   "metadata": {},
   "outputs": [
    {
     "name": "stdout",
     "output_type": "stream",
     "text": [
      "exposures file already done; skipping\n"
     ]
    }
   ],
   "source": [
    "expfolder=os.path.join(outdir,'exposures')\n",
    "os.makedirs(expfolder,exist_ok=True)\n",
    "expfile=os.path.join(expfolder,'exposuresY1.fits')\n",
    "if os.path.exists(expfile):\n",
    "    print('exposures file already done; skipping')\n",
    "    year1=Table(fitsio.read(expfile))\n",
    "else:\n",
    "    print('Writing exposure file in {}'.format(expfile))\n",
    "    w=np.isin(year1['TILEID'],tiles['TILEID'])\n",
    "    year1=year1[w]\n",
    "    year1.write(expfile)"
   ]
  },
  {
   "cell_type": "markdown",
   "metadata": {},
   "source": [
    "# Reducing a whole footprint mock target selection run to match our footprint"
   ]
  },
  {
   "cell_type": "markdown",
   "metadata": {},
   "source": [
    "In this step we will select the targets that match the Y1 footprint from a whole footprint mock target selection catalog, these can be found in \n",
    "```\n",
    "/project/projectdirs/desi/users/alxogm/desi/select_mock_targets/onlyqso_all_sky_nospec\n",
    "```\n",
    "\n",
    "this is a run of `select_mock_targets` run of only qsos and stars.\n"
   ]
  },
  {
   "cell_type": "code",
   "execution_count": 10,
   "metadata": {},
   "outputs": [],
   "source": [
    "def reducefile(file,tiles,outdir='./',nside=16):\n",
    "    tilepixels=desimodel.footprint.tiles2pix(nside=nside, tiles=tiles)\n",
    "    print('Getting {} footprint pixels from {}'.format(tilepixels.size,file))\n",
    "    pixels=Table(fitsio.read(file,columns=['HPXPIXEL']))\n",
    "    whichtargets=np.isin(pixels['HPXPIXEL'],tilepixels)\n",
    "    rows=np.where(whichtargets==True)[0]\n",
    "    filename=os.path.split(file)[-1]\n",
    "    print('Reducing data')\n",
    "    reduced = Table(fitsio.read(file,rows=rows))\n",
    "    name=os.path.join(outdir,filename)\n",
    "    print(f'Writing reduced file {name}')\n",
    "    reduced.write(name,overwrite=True)\n",
    "    print('DONE')\n",
    "    del reduced\n",
    "    return rows"
   ]
  },
  {
   "cell_type": "code",
   "execution_count": 11,
   "metadata": {},
   "outputs": [],
   "source": [
    "mockpath='/global/cfs/projectdirs/desi/mocks/lya_forest/develop/london/smt/nospectra/onlyqso_all_sky_nospec/' # Only QSO catalog\n",
    "truthfile=os.path.join(mockpath,'truth-dark.fits')\n",
    "mtlfile=os.path.join(mockpath,'mtl-dark.fits')\n",
    "targetfile=os.path.join(mockpath,'targets-dark.fits')\n",
    "skyfile=os.path.join(mockpath,'sky.fits')\n",
    "fbadir=os.path.join(mockpath,'out_fba')"
   ]
  },
  {
   "cell_type": "code",
   "execution_count": null,
   "metadata": {},
   "outputs": [],
   "source": [
    "do_reducefiles = False\n",
    "do_mtl=False\n",
    "\n",
    "if not os.path.exists(mtlfile):\n",
    "    do_mtl=True\n",
    "    \n",
    "for filename in ['truth-dark.fits','mtl-dark.fits','sky.fits']:\n",
    "    if not os.path.exists(os.path.join(outdir,filename)):\n",
    "        do_reducefiles = True\n",
    "        break\n",
    "        \n",
    "if not do_reducefiles:\n",
    "    print('Already reduced files; skipping')\n",
    "else:\n",
    "    print('Reducing files.')\n",
    "    sky = reducefile(skyfile,tiles,outdir)\n",
    "    \n",
    "    if not do_mtl:\n",
    "        rows = reducefile(mtlfile,tiles,outdir)\n",
    "    else:\n",
    "        print('MTL file does not exist in input path, generating reduced mtl for this run')\n",
    "        rows = reducefile(targetfile,tiles,outdir)\n",
    "        targets=fitsio.read(os.path.join(outdir,'targets-dark.fits'))\n",
    "        mtl = mtl.make_mtl(targets, obscon='DARK')\n",
    "        mtlname=os.path.join(outdir,'mtl-dark.fits')\n",
    "        mtl.meta['EXTNAME'] = 'MTL'\n",
    "        mtl.write(mtlname, overwrite=True, format='fits')\n",
    "        \n",
    "    print('Reducing truth file')   \n",
    "    reduced_truth = Table(fitsio.read(truthfile,rows=rows)) # Truth file doesn't contain a HPXPIXEL column but its aranged the same way as mtl\n",
    "    reduced_truth.write(os.path.join(outdir,'truth-dark.fits'),overwrite=True)\n",
    "    #del reduced_truth\n",
    "    print('DONE')"
   ]
  },
  {
   "cell_type": "code",
   "execution_count": null,
   "metadata": {},
   "outputs": [],
   "source": [
    "truth_reduced=os.path.join(outdir,'truth-dark.fits')\n",
    "mtl_reduced=os.path.join(outdir,'mtl-dark.fits')\n",
    "sky_reduced=os.path.join(outdir,'sky.fits')\n",
    "tiles_reduced=os.path.join(outdir,'reduced_tiles.fits')\n",
    "fbadir=os.path.join(outdir,'fba')"
   ]
  },
  {
   "cell_type": "code",
   "execution_count": null,
   "metadata": {},
   "outputs": [],
   "source": [
    "#The next step would be to run fiberassign a first time. "
   ]
  },
  {
   "cell_type": "code",
   "execution_count": null,
   "metadata": {},
   "outputs": [],
   "source": [
    "assign_date= \"2020-01-01T00:00:00\""
   ]
  },
  {
   "cell_type": "code",
   "execution_count": null,
   "metadata": {},
   "outputs": [],
   "source": [
    "\n",
    "# Run fiberassign\n",
    "cmd = 'fiberassign --overwrite --mtl {mtl} --sky {sky}'\n",
    "cmd += ' --rundate {}'.format(assign_date)\n",
    "cmd += ' --footprint {tiles}'\n",
    "cmd += ' --outdir {out}'\n",
    "cmd = cmd.format(mtl=mtl_reduced,sky=sky_reduced,tiles=tiles_reduced,out=fbadir)"
   ]
  },
  {
   "cell_type": "code",
   "execution_count": null,
   "metadata": {},
   "outputs": [],
   "source": [
    "print('RUNNING: '+cmd)\n",
    "try:\n",
    "    results = subprocess.check_output(cmd.split(), stderr=subprocess.STDOUT)\n",
    "    print(results.decode())\n",
    "    print('--- SUCCESS ---')\n",
    "except subprocess.CalledProcessError as ex:\n",
    "    print('--- ERROR {} ---'.format(ex.returncode))\n",
    "    print(ex.output.decode())\n",
    "    raise ex"
   ]
  },
  {
   "cell_type": "code",
   "execution_count": null,
   "metadata": {},
   "outputs": [],
   "source": [
    "fba_files = np.sort(glob.glob(os.path.join(fbadir,\"fba*.fits\")))"
   ]
  },
  {
   "cell_type": "code",
   "execution_count": null,
   "metadata": {},
   "outputs": [],
   "source": []
  },
  {
   "cell_type": "code",
   "execution_count": null,
   "metadata": {},
   "outputs": [],
   "source": [
    "#Create a first zcatalog as it is done in multipass,  https://github.com/forero/multipass/blob/42c9d13c5ceb9a61c362e2f8117acb697fc29735/run_multilayer.py#L342-L346. \n",
    "zcat=quickcat(fba_files,Table.read(mtl_reduced),Table.read(truth_reduced),perfect=True)\n",
    "zcat"
   ]
  },
  {
   "cell_type": "code",
   "execution_count": null,
   "metadata": {},
   "outputs": [],
   "source": [
    "zcat[w]"
   ]
  },
  {
   "cell_type": "markdown",
   "metadata": {},
   "source": [
    "## TO DO:\n",
    " - You can add some non-zero warnings before saving the  zcatalog\n",
    " - You could also add some random error within a reasonable range\n",
    " - Save the zcatalog and use it to update the mtl file and run fiberassign again.  zcat.write('./zcat.fits',overwrite=True)\n",
    " - Check that the reobservation occurs as expected. \n",
    " - Continue to try to modify the behaviour of reobservation if we provide information from other classifiers... \n",
    " - Repit using an all target type catalog. "
   ]
  }
 ],
 "metadata": {
  "kernelspec": {
   "display_name": "DESI master",
   "language": "python",
   "name": "desi-master"
  },
  "language_info": {
   "codemirror_mode": {
    "name": "ipython",
    "version": 3
   },
   "file_extension": ".py",
   "mimetype": "text/x-python",
   "name": "python",
   "nbconvert_exporter": "python",
   "pygments_lexer": "ipython3",
   "version": "3.6.6"
  }
 },
 "nbformat": 4,
 "nbformat_minor": 4
}
